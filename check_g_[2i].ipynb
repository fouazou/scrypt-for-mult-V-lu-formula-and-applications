{
 "cells": [
  {
   "cell_type": "code",
   "execution_count": 38,
   "metadata": {},
   "outputs": [
    {
     "data": {
      "text/html": [
       "<html><script type=\"math/tex; mode=display\">\\newcommand{\\Bold}[1]{\\mathbf{#1}}x^{4} + \\left(\\frac{\\left(8 u + 4 a_{2}\\right) a_{6} - u^{4} + 2 u^{2} a_{4} - a_{4}^{2}}{a_{6} + u^{3} + u^{2} a_{2} + u a_{4}}\\right) x^{3} + \\left(\\frac{\\left(8 u a_{2} + 4 a_{2}^{2} - 2 a_{4}\\right) a_{6} - u^{4} a_{2} - 2 u^{3} a_{4} - 2 u a_{4}^{2} - a_{4}^{2} a_{2}}{a_{6} + u^{3} + u^{2} a_{2} + u a_{4}}\\right) x^{2} + \\left(\\frac{-8 a_{6}^{2} + \\left(-8 u^{3} - 8 u^{2} a_{2} + 4 a_{4} a_{2}\\right) a_{6} - u^{4} a_{4} + 2 u^{2} a_{4}^{2} - a_{4}^{3}}{a_{6} + u^{3} + u^{2} a_{2} + u a_{4}}\\right) x + \\frac{8 u a_{6}^{2} + \\left(-u^{4} - 4 u^{3} a_{2} - 4 u^{2} a_{2}^{2} + 2 u^{2} a_{4} - 4 u a_{4} a_{2}\\right) a_{6} + u^{3} a_{4}^{2} + u^{2} a_{4}^{2} a_{2} + u a_{4}^{3}}{a_{6} + u^{3} + u^{2} a_{2} + u a_{4}}</script></html>"
      ],
      "text/plain": [
       "x^4 + (((8*u + 4*a_2)*a_6 - u^4 + 2*u^2*a_4 - a_4^2)/(a_6 + u^3 + u^2*a_2 + u*a_4))*x^3 + (((8*u*a_2 + 4*a_2^2 - 2*a_4)*a_6 - u^4*a_2 - 2*u^3*a_4 - 2*u*a_4^2 - a_4^2*a_2)/(a_6 + u^3 + u^2*a_2 + u*a_4))*x^2 + ((-8*a_6^2 + (-8*u^3 - 8*u^2*a_2 + 4*a_4*a_2)*a_6 - u^4*a_4 + 2*u^2*a_4^2 - a_4^3)/(a_6 + u^3 + u^2*a_2 + u*a_4))*x + (8*u*a_6^2 + (-u^4 - 4*u^3*a_2 - 4*u^2*a_2^2 + 2*u^2*a_4 - 4*u*a_4*a_2)*a_6 + u^3*a_4^2 + u^2*a_4^2*a_2 + u*a_4^3)/(a_6 + u^3 + u^2*a_2 + u*a_4)"
      ]
     },
     "metadata": {},
     "output_type": "display_data"
    },
    {
     "data": {
      "text/html": [
       "<html><script type=\"math/tex; mode=display\">\\newcommand{\\Bold}[1]{\\mathbf{#1}}x^{4} + \\left(\\frac{\\left(8 u + 4 a_{2}\\right) a_{6} - u^{4} + 2 u^{2} a_{4} - a_{4}^{2}}{a_{6} + u^{3} + u^{2} a_{2} + u a_{4}}\\right) x^{3} + \\left(\\frac{\\left(8 u a_{2} + 4 a_{2}^{2} - 2 a_{4}\\right) a_{6} - u^{4} a_{2} - 2 u^{3} a_{4} - 2 u a_{4}^{2} - a_{4}^{2} a_{2}}{a_{6} + u^{3} + u^{2} a_{2} + u a_{4}}\\right) x^{2} + \\left(\\frac{-8 a_{6}^{2} + \\left(-8 u^{3} - 8 u^{2} a_{2} + 4 a_{4} a_{2}\\right) a_{6} - u^{4} a_{4} + 2 u^{2} a_{4}^{2} - a_{4}^{3}}{a_{6} + u^{3} + u^{2} a_{2} + u a_{4}}\\right) x + \\frac{8 u a_{6}^{2} + \\left(-u^{4} - 4 u^{3} a_{2} - 4 u^{2} a_{2}^{2} + 2 u^{2} a_{4} - 4 u a_{4} a_{2}\\right) a_{6} + u^{3} a_{4}^{2} + u^{2} a_{4}^{2} a_{2} + u a_{4}^{3}}{a_{6} + u^{3} + u^{2} a_{2} + u a_{4}}</script></html>"
      ],
      "text/plain": [
       "x^4 + (((8*u + 4*a_2)*a_6 - u^4 + 2*u^2*a_4 - a_4^2)/(a_6 + u^3 + u^2*a_2 + u*a_4))*x^3 + (((8*u*a_2 + 4*a_2^2 - 2*a_4)*a_6 - u^4*a_2 - 2*u^3*a_4 - 2*u*a_4^2 - a_4^2*a_2)/(a_6 + u^3 + u^2*a_2 + u*a_4))*x^2 + ((-8*a_6^2 + (-8*u^3 - 8*u^2*a_2 + 4*a_4*a_2)*a_6 - u^4*a_4 + 2*u^2*a_4^2 - a_4^3)/(a_6 + u^3 + u^2*a_2 + u*a_4))*x + (8*u*a_6^2 + (-u^4 - 4*u^3*a_2 - 4*u^2*a_2^2 + 2*u^2*a_4 - 4*u*a_4*a_2)*a_6 + u^3*a_4^2 + u^2*a_4^2*a_2 + u*a_4^3)/(a_6 + u^3 + u^2*a_2 + u*a_4)"
      ]
     },
     "metadata": {},
     "output_type": "display_data"
    }
   ],
   "source": [
    "Y.<u,a_4,a_2> = QQ[] \n",
    "V = FractionField(Y) \n",
    "K.<a_6> = FunctionField(V)\n",
    "R.<e> = K[]\n",
    "L.<e> = K.extension(e^3+a_2*e^2+a_4*e+a_6)\n",
    "R_1.<x>  = L[]\n",
    "s = -(e + a_2)\n",
    "p = e^2 + e*a_2 + a_4\n",
    "# m_1,m_2 and m_3 for the coefficients of g_{[2](u,v)}\n",
    "m_1 = (e + a_2)*u^2 + (4*e^2 + 4*e*a_2 + 4*a_4)*u + 2*e^2*a_2 + 2*e*a_2^2 - e*a_4 + a_4*a_2 + 2*a_6  \n",
    "m_2 = u^2 + (e + a_2)*u + e^2 + e*a_2 + a_4\n",
    "m_3 = (e^2 + e*a_2 + a_4)*u^2 + (2*e^2*a_2 + 2*e*a_2^2 - e*a_4 + a_4*a_2 + 2*a_6)*u + 2*e^2*a_4 + 2*e*a_4*a_2 + a_4^2 + (-4*a_6)*e\n",
    " \n",
    "show((x-u)*(x-(e*u+(-a_4*e-2*a_6)/e)/(u-e))*(x^2+(m_1/m_2)*x+m_3/m_2)) #this is (x-u)(x-x_{(u,v)+(e,0)})*g_{[2i]Q}\n",
    "\n",
    " \n",
    "b_2= 4*a_2; b_4=2*a_4; b_6= 4*a_6;b_8= 4*a_2*a_6-a_4^2;\n",
    "f = x^3+a_2*x^2+a_4*x+a_6; # division polinomial at order 2\n",
    "f_1 = 3*x^4+b_2*x^3+3*b_4*x^2+3*b_6*x+b_8\n",
    "g = 4*x*f-f_1\n",
    "a = g/(4*f)  # first coordinate of scalar multiplication by 2\n",
    "a_1 = a(u)\n",
    "r_1 = (a-a_1).numerator() # numerator of $x_{[2]P}-x_{[2](u,v)}\n",
    "show(4*r_1) "
   ]
  },
  {
   "cell_type": "code",
   "execution_count": 41,
   "metadata": {},
   "outputs": [
    {
     "data": {
      "text/plain": [
       "True"
      ]
     },
     "execution_count": 41,
     "metadata": {},
     "output_type": "execute_result"
    }
   ],
   "source": [
    "Y.<u,a_4,a_2> = QQ[] \n",
    "V = FractionField(Y) \n",
    "K.<a_6> = FunctionField(V)\n",
    "R.<e> = K[]\n",
    "L.<e> = K.extension(e^3+a_2*e^2+a_4*e+a_6)\n",
    "R_1.<x>  = L[]\n",
    "\n",
    "\n",
    "g = x^4 - 4*e*x^3 + (-4*e*a_2 - 2*a_4)*x^2 + (-8*a_6 - 4*e*a_4)*x + (-4*e - 4*a_2)*a_6 + a_4^2\n",
    "g == (x^2-2*e*x-2*e^2-2*a_2*e-a_4)^2"
   ]
  },
  {
   "cell_type": "code",
   "execution_count": null,
   "metadata": {},
   "outputs": [],
   "source": []
  }
 ],
 "metadata": {
  "kernelspec": {
   "display_name": "SageMath 8.7",
   "language": "",
   "name": "sagemath"
  },
  "language_info": {
   "codemirror_mode": {
    "name": "ipython",
    "version": 2
   },
   "file_extension": ".py",
   "mimetype": "text/x-python",
   "name": "python",
   "nbconvert_exporter": "python",
   "pygments_lexer": "ipython2",
   "version": "2.7.15"
  }
 },
 "nbformat": 4,
 "nbformat_minor": 2
}
