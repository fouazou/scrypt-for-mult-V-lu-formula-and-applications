{
 "cells": [
  {
   "cell_type": "code",
   "execution_count": 68,
   "metadata": {},
   "outputs": [
    {
     "data": {
      "text/html": [
       "<html><script type=\"math/tex; mode=display\">\\newcommand{\\Bold}[1]{\\mathbf{#1}}1 + \\left(\\frac{2 u^{3} + \\left(-2 a_{4}\\right) u - 4 a_{6}}{u^{2}}\\right)t^{2} + \\left(\\frac{3 u^{4} + \\left(2 a_{2}\\right) u^{3} + \\left(-4 a_{4}\\right) u^{2} + \\left(-2 a_{2} a_{4} - 12 a_{6}\\right) u + a_{4}^{2} - 8 a_{2} a_{6}}{u^{2}}\\right)t^{4} + O(t^{6})</script></html>"
      ],
      "text/plain": [
       "1 + ((2*u^3 + (-2*a_4)*u - 4*a_6)/u^2)*t^2 + ((3*u^4 + 2*a_2*u^3 + (-4*a_4)*u^2 + (-2*a_2*a_4 - 12*a_6)*u + a_4^2 - 8*a_2*a_6)/u^2)*t^4 + O(t^6)"
      ]
     },
     "metadata": {},
     "output_type": "display_data"
    },
    {
     "data": {
      "text/html": [
       "<html><script type=\"math/tex; mode=display\">\\newcommand{\\Bold}[1]{\\mathbf{#1}}1 + \\left(\\frac{3 e^{2} + 2 e a_{2} + a_{4}}{e}\\right)t^{2} + \\left(\\frac{3 e^{3} + 5 e^{2} a_{2} + 2 e a_{2}^{2} + e a_{4} + a_{2} a_{4}}{e}\\right)t^{4} + O(t^{6})</script></html>"
      ],
      "text/plain": [
       "1 + ((3*e^2 + 2*e*a_2 + a_4)/e)*t^2 + ((3*e^3 + 5*e^2*a_2 + 2*e*a_2^2 + e*a_4 + a_2*a_4)/e)*t^4 + O(t^6)"
      ]
     },
     "metadata": {},
     "output_type": "display_data"
    },
    {
     "data": {
      "text/html": [
       "<html><script type=\"math/tex; mode=display\">\\newcommand{\\Bold}[1]{\\mathbf{#1}}1 + \\left(\\frac{3 e^{2} + 2 e a_{2} + a_{4}}{e}\\right)t^{2} + \\left(\\frac{2 e^{2} a_{2} + 2 e a_{2}^{2} - 2 e a_{4} + a_{2} a_{4} - 3 a_{6}}{e}\\right)t^{4} + O(t^{6})</script></html>"
      ],
      "text/plain": [
       "1 + ((3*e^2 + 2*e*a_2 + a_4)/e)*t^2 + ((2*e^2*a_2 + 2*e*a_2^2 - 2*e*a_4 + a_2*a_4 - 3*a_6)/e)*t^4 + O(t^6)"
      ]
     },
     "metadata": {},
     "output_type": "display_data"
    }
   ],
   "source": [
    "Y.<e,a_2,a_4,a_6,c_1,c_3,c_2,c_4,c_6,l_0,l_1,l_2,l_3,l_4> = QQ[]\n",
    "V = FractionField(Y)\n",
    "R.<u,v> = V[]\n",
    "V_1 = FractionField(R)\n",
    "N.<t> = LaurentSeriesRing(V_1 ,'t')\n",
    " \n",
    "a_1 = 0   ; a_3 = 0  \n",
    "u_1=a_1; u_2=-a_2; u_3=a_3;u_4= -(a_1*a_3+a_4);u_5= a_2*a_3+a_1^2*a_3+a_1*a_4;\n",
    "u_6 = -(a_1^2*a_4+a_1^3+a_2*a_4+2*a_1*a_2*a_3+a_3^2+a_6); \n",
    "x = t^(-2)+u_1*t^(-1)+u_2+u_3*t+u_4*t^2+u_5*t^3+u_6*t^4+O(t^5)\n",
    "y = x/t\n",
    "p = (x^2 + ((-2*a_4*u - 4*a_6)/u^2)*x + (-4*a_6*u + a_4^2 - 4*a_2*a_6)/u^2)/(x^2 - 2*u*x + u^2)\n",
    "show(p+O(t^6))\n",
    "p_1 = (e*x + 2*e^2 + 2*a_2*e + a_4)/(x - e)\n",
    "show(p_1/e+O(t^6))\n",
    "show(1 + ((3*e^2 + 2*e*a_2 + a_4)/e)*t^2 + ((3*(-a_2*e^2-a_4*e-a_6) + 5*e^2*a_2 + 2*e*a_2^2 + e*a_4 + a_2*a_4)/e)*t^4 + O(t^6))"
   ]
  },
  {
   "cell_type": "code",
   "execution_count": 69,
   "metadata": {},
   "outputs": [
    {
     "data": {
      "text/html": [
       "<html><script type=\"math/tex; mode=display\">\\newcommand{\\Bold}[1]{\\mathbf{#1}}1 + \\left(a_{2} l_{2} - l_{4}\\right)t^{4} + O(t^{6})</script></html>"
      ],
      "text/plain": [
       "1 + (a_2*l_2 - l_4)*t^4 + O(t^6)"
      ]
     },
     "metadata": {},
     "output_type": "display_data"
    },
    {
     "data": {
      "text/html": [
       "<html><script type=\"math/tex; mode=display\">\\newcommand{\\Bold}[1]{\\mathbf{#1}}\\frac{a_{2} - c_{2} - 3 l_{2}}{t^{4}} + \\frac{-2 a_{2}^{2} + 2 a_{2} c_{2} + 11 a_{2} l_{2} - 2 c_{2} l_{2} - 3 l_{2}^{2} + a_{4} - c_{4} - 5 l_{4}}{t^{2}} + O(1)</script></html>"
      ],
      "text/plain": [
       "(a_2 - c_2 - 3*l_2)*t^-4 + (-2*a_2^2 + 2*a_2*c_2 + 11*a_2*l_2 - 2*c_2*l_2 - 3*l_2^2 + a_4 - c_4 - 5*l_4)*t^-2 + O(1)"
      ]
     },
     "metadata": {},
     "output_type": "display_data"
    }
   ],
   "source": [
    "Y.<e,a_2,a_4,a_6,c_2,c_4,c_6,l_2,l_4> = QQ[] # c_2,c_4 and c_6 represent a'_2, a'_4 and a'_6\n",
    "V = FractionField(Y)\n",
    "R.<u,v> = V[]\n",
    "V_1 = FractionField(R)\n",
    "N.<t> = LaurentSeriesRing(V_1 ,'t')\n",
    " \n",
    "a_1 = 0   ; a_3 = 0  \n",
    "u_1=a_1; u_2=-a_2; u_3=a_3;u_4= -(a_1*a_3+a_4);u_5= a_2*a_3+a_1^2*a_3+a_1*a_4;\n",
    "u_6 = -(a_1^2*a_4+a_1^3+a_2*a_4+2*a_1*a_2*a_3+a_3^2+a_6); \n",
    "x = t^(-2)+u_1*t^(-1)+u_2+u_3*t+u_4*t^2+u_5*t^3+u_6*t^4+O(t^5)\n",
    "y = x/t\n",
    "\n",
    "\n",
    "\n",
    "X_1 = x*(1+l_2*t^2+l_4*t^4+O(t^6)) \n",
    "show((X_1.derivative())/(x.derivative()))\n",
    "Y_1 = y*((X_1.derivative())/(x.derivative()))\n",
    "rlt = Y_1^2 -X_1^3-c_2*X_1^2-c_4*X_1-c_6\n",
    "show(rlt)"
   ]
  },
  {
   "cell_type": "code",
   "execution_count": 2,
   "metadata": {},
   "outputs": [
    {
     "name": "stdout",
     "output_type": "stream",
     "text": [
      "O(t^0)\n"
     ]
    }
   ],
   "source": [
    "# now we take c_2=a_2-3l_2\n",
    "Y.<e,a_2,a_4,a_6,c_2,c_6,l_2,l_4> = QQ[] # c_2,c_4 and c_6 represent a'_2, a'_4 and a'_6\n",
    "V = FractionField(Y)\n",
    "R.<u,v> = V[]\n",
    "V_1 = FractionField(R)\n",
    "N.<t> = LaurentSeriesRing(V_1 ,'t')\n",
    " \n",
    "a_1 = 0   ; a_3 = 0  \n",
    "u_1=a_1; u_2=-a_2; u_3=a_3;u_4= -(a_1*a_3+a_4);u_5= a_2*a_3+a_1^2*a_3+a_1*a_4;\n",
    "u_6 = -(a_1^2*a_4+a_1^3+a_2*a_4+2*a_1*a_2*a_3+a_3^2+a_6); \n",
    "x = t^(-2)+u_1*t^(-1)+u_2+u_3*t+u_4*t^2+u_5*t^3+u_6*t^4+O(t^5)\n",
    "y = x/t\n",
    "c_2 = a_2   - 3*l_2 \n",
    "c_4 = 3*a_2*l_2 + 3*l_2^2 + a_4   - 5*l_4\n",
    "\n",
    "X_1 = (x)*(1+l_2*t^2+l_4*t^4+O(t^6))\n",
    " \n",
    "Y_1 = y*((X_1.derivative())/(x.derivative()))\n",
    "rlt = Y_1^2 -X_1^3-c_2*X_1^2-c_4*X_1-c_6\n",
    "print (rlt)"
   ]
  },
  {
   "cell_type": "code",
   "execution_count": 3,
   "metadata": {},
   "outputs": [
    {
     "name": "stdout",
     "output_type": "stream",
     "text": [
      "True\n"
     ]
    },
    {
     "data": {
      "text/html": [
       "<html><script type=\"math/tex; mode=display\">\\newcommand{\\Bold}[1]{\\mathbf{#1}}29</script></html>"
      ],
      "text/plain": [
       "29"
      ]
     },
     "metadata": {},
     "output_type": "display_data"
    },
    {
     "data": {
      "text/html": [
       "<html><script type=\"math/tex; mode=display\">\\newcommand{\\Bold}[1]{\\mathbf{#1}}48</script></html>"
      ],
      "text/plain": [
       "48"
      ]
     },
     "metadata": {},
     "output_type": "display_data"
    },
    {
     "data": {
      "text/html": [
       "<html><script type=\"math/tex; mode=display\">\\newcommand{\\Bold}[1]{\\mathbf{#1}}96</script></html>"
      ],
      "text/plain": [
       "96"
      ]
     },
     "metadata": {},
     "output_type": "display_data"
    },
    {
     "data": {
      "text/html": [
       "<html><script type=\"math/tex; mode=display\">\\newcommand{\\Bold}[1]{\\mathbf{#1}}\\frac{x^{10} + 100 x^{9} + 45 x^{8} + 83 x^{7} + 70 x^{6} + 89 x^{5} + x^{4} + 69 x^{3} + 55 x^{2} + 97 x}{x^{9} + 42 x^{8} + 47 x^{7} + 75 x^{6} + 13 x^{5} + 65 x^{4} + 56 x^{3} + 77 x^{2} + 8 x + 88}</script></html>"
      ],
      "text/plain": [
       "(x^10 + 100*x^9 + 45*x^8 + 83*x^7 + 70*x^6 + 89*x^5 + x^4 + 69*x^3 + 55*x^2 + 97*x)/(x^9 + 42*x^8 + 47*x^7 + 75*x^6 + 13*x^5 + 65*x^4 + 56*x^3 + 77*x^2 + 8*x + 88)"
      ]
     },
     "metadata": {},
     "output_type": "display_data"
    }
   ],
   "source": [
    "#-------------------------------------------begin setup-----------------------------------------------------------------------\n",
    "# for your example put in K and the a_i the field of definition of your curve and its parameters respectively \n",
    "# and in P the generator of your subgroup G. Are the only variables you need to change in this scrypt. \n",
    "# this scrypt will return  parameter of your co-domain curve and the first coordinate of the isogeny of kernel G=<P>\n",
    "K= GF(101)\n",
    "Y.<x> = K[]\n",
    "a_2=GF(101)(1); a_4=GF(101)(1); a_6=GF(101)(4)\n",
    "E = EllipticCurve(GF(101),[0,a_2,0,a_4,a_6]);\n",
    "C_1 = (2*x^3-2*a_4*x-4*a_6)/x^2; C1= ((3*x^2 + 2*x*a_2 + a_4)/x);\n",
    "C_2 = (3*x^4 + 2*a_2*x^3 + (-4*a_4)*x^2 + (-2*a_2*a_4 - 12*a_6)*x + a_4^2 - 8*a_2*a_6)/x^2;\n",
    "C2 = ((3*x^3 + 5*x^2*a_2 + 2*x*a_2^2 + x*a_4 + a_2*a_4)/x);\n",
    "P=E((39,9)); n=P.order();\n",
    "#------------------------------------------end setup---------------------------------------------------------------------------------------------------------------\n",
    "if (n%2)==1:\n",
    "    k=(n-1)/2;\n",
    "else:\n",
    "    k=(n-2)/2+1;\n",
    "sum11=0;sum12=0;sum13=0;\n",
    "sum21=0;sum22=0;sum23=0;\n",
    "for i in range(1,k+1):\n",
    "    Q = i*P\n",
    "    if Q.order()==2:\n",
    "        sum11 = sum11+C1(Q[0])\n",
    "        sum12 = sum12+C1(Q[0])^2\n",
    "        sum13 = sum13+C2(Q[0])\n",
    "    else:\n",
    "        sum21 = sum21+C_1(Q[0])\n",
    "        sum22 = sum22+C_1(Q[0])^2\n",
    "        sum23 = sum23+C_2(Q[0])\n",
    "l_2 = sum11+sum21\n",
    "l_4 = sum11*sum21+sum13+sum23+(sum11^2+sum21^2)/2-(sum12+sum22)/2\n",
    "c_2 = a_2-3*l_2; c_4=3*a_2*l_2+3*l_2^2+a_4-5*l_4\n",
    "c_6=a_6\n",
    "I_x=x\n",
    "for i in range(1,k+1):\n",
    "    Q = i*P\n",
    "    if Q.order()==2:\n",
    "        c_6 = c_6*((2*(Q[0])^2 + 2*a_2*(Q[0]) + a_4)/(-(Q[0])^2))^2\n",
    "        I_x = I_x*(x + 2*(Q[0]) + 2*a_2 + a_4/(Q[0]))/(x - (Q[0]))\n",
    "    else:\n",
    "        c_6 = c_6*((-4*a_6*(Q[0])+a_4^2-4*a_2*a_6)/((Q[0])^4))^2 \n",
    "        I_x = I_x*(x^2 + ((-2*a_4*(Q[0]) - 4*a_6)/(Q[0])^2)*x + (-4*a_6*(Q[0]) + a_4^2 - 4*a_2*a_6)/(Q[0])^2)/(x^2 - 2*(Q[0])*x + (Q[0])^2)\n",
    "# the next instruction check in the computed map embeded in the computed curve y^2=x^3+c_2*x^2+c_4*x+c_6\n",
    "print (x^3+a_2*x^2+a_4*x+a_6)*((I_x).derivative())^2-(I_x)^3-c_2*(I_x)^2-c_4*(I_x)-c_6==0 # to check our theorem \n",
    "show(c_2);show(c_4);show(c_6) # parameters of your co-domain curve\n",
    "show(I_x) # first coordinate of the isogeny "
   ]
  },
  {
   "cell_type": "code",
   "execution_count": null,
   "metadata": {},
   "outputs": [],
   "source": []
  }
 ],
 "metadata": {
  "kernelspec": {
   "display_name": "SageMath 8.7",
   "language": "",
   "name": "sagemath"
  },
  "language_info": {
   "codemirror_mode": {
    "name": "ipython",
    "version": 2
   },
   "file_extension": ".py",
   "mimetype": "text/x-python",
   "name": "python",
   "nbconvert_exporter": "python",
   "pygments_lexer": "ipython2",
   "version": "2.7.15"
  }
 },
 "nbformat": 4,
 "nbformat_minor": 2
}
