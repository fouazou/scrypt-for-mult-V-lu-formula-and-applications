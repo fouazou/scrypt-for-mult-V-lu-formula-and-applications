{
 "cells": [
  {
   "cell_type": "code",
   "execution_count": 39,
   "metadata": {},
   "outputs": [
    {
     "data": {
      "text/html": [
       "<html><script type=\"math/tex; mode=display\">\\newcommand{\\Bold}[1]{\\mathbf{#1}}1 + \\left(\\frac{2 u^{3} + \\left(-2 a_{4}\\right) u - 4 a_{6}}{u^{2}}\\right)t^{2} + \\left(\\frac{3 u^{4} + \\left(2 a_{2}\\right) u^{3} + \\left(-4 a_{4}\\right) u^{2} + \\left(-2 a_{2} a_{4} - 12 a_{6}\\right) u + a_{4}^{2} - 8 a_{2} a_{6}}{u^{2}}\\right)t^{4} + O(t^{6})</script></html>"
      ],
      "text/plain": [
       "1 + ((2*u^3 + (-2*a_4)*u - 4*a_6)/u^2)*t^2 + ((3*u^4 + 2*a_2*u^3 + (-4*a_4)*u^2 + (-2*a_2*a_4 - 12*a_6)*u + a_4^2 - 8*a_2*a_6)/u^2)*t^4 + O(t^6)"
      ]
     },
     "metadata": {},
     "output_type": "display_data"
    },
    {
     "data": {
      "text/html": [
       "<html><script type=\"math/tex; mode=display\">\\newcommand{\\Bold}[1]{\\mathbf{#1}}1 + \\left(\\frac{3 e^{2} + 2 e a_{2} + a_{4}}{e}\\right)t^{2} + \\left(\\frac{3 e^{3} + 5 e^{2} a_{2} + 2 e a_{2}^{2} + e a_{4} + a_{2} a_{4}}{e}\\right)t^{4} + O(t^{6})</script></html>"
      ],
      "text/plain": [
       "1 + ((3*e^2 + 2*e*a_2 + a_4)/e)*t^2 + ((3*e^3 + 5*e^2*a_2 + 2*e*a_2^2 + e*a_4 + a_2*a_4)/e)*t^4 + O(t^6)"
      ]
     },
     "metadata": {},
     "output_type": "display_data"
    }
   ],
   "source": [
    "Y.<e,a_2,a_4,a_6,c_1,c_3,c_2,c_4,c_6,l_0,l_1,l_2,l_3,l_4> = QQ[]\n",
    "V = FractionField(Y)\n",
    "R.<u,v> = V[]\n",
    "V_1 = FractionField(R)\n",
    "N.<t> = LaurentSeriesRing(V_1 ,'t')\n",
    " \n",
    "a_1 = 0   ; a_3 = 0  \n",
    "u_1=a_1; u_2=-a_2; u_3=a_3;u_4= -(a_1*a_3+a_4);u_5= a_2*a_3+a_1^2*a_3+a_1*a_4;\n",
    "u_6 = -(a_1^2*a_4+a_1^3+a_2*a_4+2*a_1*a_2*a_3+a_3^2+a_6); \n",
    "x = t^(-2)+u_1*t^(-1)+u_2+u_3*t+u_4*t^2+u_5*t^3+u_6*t^4+O(t^5)\n",
    "y = x/t\n",
    "p = ((u^2*x^2 + ((-a_1*a_3 - 2*a_4)*u - a_3^2 - 4*a_6)*x + (-a_3^2 - 4*a_6)*u - a_2*a_3^2 + a_1*a_3*a_4 - a_1^2*a_6 + a_4^2 - 4*a_2*a_6)/(x^2 - 2*u*x + u^2))\n",
    "\n",
    "show(p/u^2+O(t^6))\n",
    "p_1 = (e*x + 2*e^2 + 2*a_2*e + a_4)/(x - e)\n",
    "show(p_1/e+O(t^6))"
   ]
  },
  {
   "cell_type": "code",
   "execution_count": null,
   "metadata": {},
   "outputs": [],
   "source": [
    "Y.<e,a_2,a_4,a_6,c_2,c_4,c_6,l_2,l_4> = QQ[] # c_2,c_4 and c_6 represent a'_2, a'_4 and a'_6\n",
    "V = FractionField(Y)\n",
    "R.<u,v> = V[]\n",
    "V_1 = FractionField(R)\n",
    "N.<t> = LaurentSeriesRing(V_1 ,'t')\n",
    " \n",
    "a_1 = 0   ; a_3 = 0  \n",
    "u_1=a_1; u_2=-a_2; u_3=a_3;u_4= -(a_1*a_3+a_4);u_5= a_2*a_3+a_1^2*a_3+a_1*a_4;\n",
    "u_6 = -(a_1^2*a_4+a_1^3+a_2*a_4+2*a_1*a_2*a_3+a_3^2+a_6); \n",
    "x = t^(-2)+u_1*t^(-1)+u_2+u_3*t+u_4*t^2+u_5*t^3+u_6*t^4+O(t^5)\n",
    "y = x/t\n",
    "\n",
    "\n",
    "\n",
    "X_1 = x*(1+l_2*t^2+l_4*t^4+O(t^6))\n",
    "show((X_1.derivative())/(x.derivative()))\n",
    "Y_1 = y*((X_1.derivative())/(x.derivative()))\n",
    "rlt = Y_1^2 -X_1^3-c_2*X_1^2-c_4*X_1-c_6\n",
    "show(rlt)"
   ]
  },
  {
   "cell_type": "code",
   "execution_count": 45,
   "metadata": {},
   "outputs": [
    {
     "data": {
      "text/html": [
       "<html><script type=\"math/tex; mode=display\">\\newcommand{\\Bold}[1]{\\mathbf{#1}}\\frac{\\left(-4 a_{6}\\right) u + a_{4}^{2} - 4 a_{2} a_{6}}{u^{4}}</script></html>"
      ],
      "text/plain": [
       "((-4*a_6)*u + a_4^2 - 4*a_2*a_6)/u^4"
      ]
     },
     "metadata": {},
     "output_type": "display_data"
    },
    {
     "data": {
      "text/html": [
       "<html><script type=\"math/tex; mode=display\">\\newcommand{\\Bold}[1]{\\mathbf{#1}}\\frac{2 e^{2} + 2 e a_{2} + a_{4}}{-e^{2}}</script></html>"
      ],
      "text/plain": [
       "(2*e^2 + 2*e*a_2 + a_4)/(-e^2)"
      ]
     },
     "metadata": {},
     "output_type": "display_data"
    }
   ],
   "source": [
    "Y.<e,a_2,a_4,a_6,c_1,c_3,c_2,c_4,c_6,l_0,l_1,l_2,l_3,l_4> = QQ[]\n",
    "V = FractionField(Y)\n",
    "R.<u,v> = V[]\n",
    " \n",
    "a_1 = 0   ; a_3 = 0  \n",
    "u_1=a_1; u_2=-a_2; u_3=a_3;u_4= -(a_1*a_3+a_4);u_5= a_2*a_3+a_1^2*a_3+a_1*a_4;\n",
    "u_6 = -(a_1^2*a_4+a_1^3+a_2*a_4+2*a_1*a_2*a_3+a_3^2+a_6); \n",
    "x = 0\n",
    "p = ((u^2*x^2 + ((-a_1*a_3 - 2*a_4)*u - a_3^2 - 4*a_6)*x + (-a_3^2 - 4*a_6)*u - a_2*a_3^2 + a_1*a_3*a_4 - a_1^2*a_6 + a_4^2 - 4*a_2*a_6)/(x^2 - 2*u*x + u^2))\n",
    "\n",
    "show(p/u^2)\n",
    "p_1 = ((e*x + 2*e^2 + 2*a_2*e + a_4)/(x - e))\n",
    "show(p_1/e)"
   ]
  },
  {
   "cell_type": "code",
   "execution_count": null,
   "metadata": {},
   "outputs": [],
   "source": [
    "Y.<a,b> = QQ[]\n",
    "a_1=0;a_2=0;a_3=0;a_4=a;a_6=b\n",
    "V = FractionField(Y)\n",
    "Y_1.<e_1,e_2> = V[]\n",
    "\n",
    "3*b*e_1^6 + 3*a*e_1^5*e_2 + 3*e_1^3*e_2^3 + (-27*b)*e_1^4*e_2 + (-24*a)*e_1^3*e_2^2 + (-18)*e_1*e_2^4 + 3*a*b*e_1^4 + 3*a^2*e_1^3*e_2 + 54*b*e_1^2*e_2^2 + 36*a*e_1*e_2^3 + (-2*a^3 + 12*b^2)*e_1^3 + 6*a*b*e_1^2*e_2 + (-16*a^2)*e_1*e_2^2 + 18*b*e_2^3 + (-16*a^2*b)*e_1^2 + (-4*a^3 + 36*b^2)*e_1*e_2 + 6*a*b*e_2^2 + (2*a^4 - 12*a*b^2)*e_1 + (-10*a^2*b)*e_2 + 2*a^3*b\n",
    ".....\n",
    "3*b*e_1^4 + 3*a*e_1^3*e_2 + 3*e_1*e_2^3 + (-a^2)*e_1^3 + (-3*a)*e_1*e_2^2 + 6*a*b*e_1^2 + 9*a^2*e_1*e_2 + (-18*b)*e_2^2 + (-a^3 + 12*b^2)*e_1 + 12*a*b*e_2 - 2*a^2*b\n",
    "....\n",
    "3*b*e_1^5 + 3*a*e_1^4*e_2 + 3*e_1^2*e_2^3 + (-24*b)*e_1^3*e_2 + (-21*a)*e_1^2*e_2^2 + (-15)*e_2^4 + 6*a*b*e_1^3 + 5*a^2*e_1^2*e_2 + 54*b*e_1*e_2^2 + 36*a*e_2^3 + (-3*a^3 + 12*b^2)*e_1^2 + 12*a*b*e_1*e_2 + (-10*a^2)*e_2^2 + (-10*a^2*b)*e_1 + (4*a^3 + 48*b^2)*e_2 + a^4\n",
    "...\n",
    "(-9*b)*e_1^5*e_2 + (-9*a)*e_1^4*e_2^2 + (-9)*e_1^2*e_2^4 + 6*a*b*e_1^5 + 6*a^2*e_1^4*e_2 + 72*b*e_1^3*e_2^2 + 69*a*e_1^2*e_2^3 + 45*e_2^5 + (-24*b^2)*e_1^4 + (-99*a*b)*e_1^3*e_2 + (-69*a^2)*e_1^2*e_2^2 + (-159*b)*e_1*e_2^3 + (-138*a)*e_2^4 + 3*a^2*b*e_1^3 + (3*a^3 + 72*b^2)*e_1^2*e_2 + 249*a*b*e_1*e_2^2 + 142*a^2*e_2^3 + (-2*a^4 - 60*a*b^2)*e_1^2 + (-105*a^2*b)*e_1*e_2 + (-48*a^3 + 108*b^2)*e_2^2 + (-a^3*b - 96*b^3)*e_1 + 13*a^4*e_2 + 2*a^5 + 20*a^2*b^2\n",
    "....\n",
    "(-2*a*b)*e_1^6 + (-2*a^2)*e_1^5*e_2 + 3*b*e_1^4*e_2^2 + a*e_1^3*e_2^3 + 3*e_1*e_2^5 + 24*b^2*e_1^5 + 54*a*b*e_1^4*e_2 + 28*a^2*e_1^3*e_2^2 + 15*b*e_1^2*e_2^3 + 18*a*e_1*e_2^4 + (-2*a^2*b)*e_1^4 + (-2*a^3 - 120*b^2)*e_1^3*e_2 + (-165*a*b)*e_1^2*e_2^2 + (-45*a^2)*e_1*e_2^3 + (-48*b)*e_2^4 + (-a^4 + 12*a*b^2)*e_1^3 + 43*a^2*b*e_1^2*e_2 + (23*a^3 + 156*b^2)*e_1*e_2^2 + 98*a*b*e_2^3 + (-7*a^3*b - 48*b^3)*e_1^2 + (6*a^4 - 12*a*b^2)*e_1*e_2 + (-56*a^2*b)*e_2^2 + (3*a^5 + 28*a^2*b^2)*e_1 + (26*a^3*b + 96*b^3)*e_2 + 4*a^4*b + 32*a*b^3\n",
    "....\n",
    "(-8*b^2)*e_1^6 + (-14*a*b)*e_1^5*e_2 + (-6*a^2)*e_1^4*e_2^2 + (-13*b)*e_1^3*e_2^3 + (-11*a)*e_1^2*e_2^4 + (-5)*e_2^6 + 48*b^2*e_1^4*e_2 + 70*a*b*e_1^3*e_2^2 + 24*a^2*e_1^2*e_2^3 + 39*b*e_1*e_2^4 + 22*a*e_2^5 + (-8*a*b^2)*e_1^4 + (-14*a^2*b)*e_1^3*e_2 + (-6*a^3 - 72*b^2)*e_1^2*e_2^2 + (-89*a*b)*e_1*e_2^3 + (-29*a^2)*e_2^4 + (-a^3*b - 16*b^3)*e_1^3 + 16*a*b^2*e_1^2*e_2 + 35*a^2*b*e_1*e_2^2 + (12*a^3 - 4*b^2)*e_2^3 + (a^5 + 8*a^2*b^2)*e_1^2 + (5*a^3*b + 48*b^3)*e_1*e_2 + (a^4 + 16*a*b^2)*e_2^2 + (2*a^4*b + 16*a*b^3)*e_1 + (-2*a^5 - 12*a^2*b^2)*e_2 + a^6 + 16*a^3*b^2 + 64*b^4\n",
    "\n",
    " "
   ]
  }
 ],
 "metadata": {
  "kernelspec": {
   "display_name": "SageMath 8.7",
   "language": "",
   "name": "sagemath"
  },
  "language_info": {
   "codemirror_mode": {
    "name": "ipython",
    "version": 2
   },
   "file_extension": ".py",
   "mimetype": "text/x-python",
   "name": "python",
   "nbconvert_exporter": "python",
   "pygments_lexer": "ipython2",
   "version": "2.7.15"
  }
 },
 "nbformat": 4,
 "nbformat_minor": 2
}
