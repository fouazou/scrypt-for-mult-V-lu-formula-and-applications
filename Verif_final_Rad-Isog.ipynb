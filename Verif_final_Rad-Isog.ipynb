{
 "cells": [
  {
   "cell_type": "code",
   "execution_count": 3,
   "metadata": {},
   "outputs": [
    {
     "name": "stdout",
     "output_type": "stream",
     "text": [
      "t^-2 + l_1 + l_2*t^2 + l_4*t^4 + O(t^5)\n",
      "1 + (-a_4 - l_2)*t^4 + (-2*a_2*a_4 - 2*a_6 - 2*l_4)*t^6 + O(t^7)\n"
     ]
    },
    {
     "data": {
      "text/html": [
       "<html><script type=\"math/tex; mode=display\">\\newcommand{\\Bold}[1]{\\mathbf{#1}}\\frac{-2 a_{2} - c_{2} - 3 l_{1}}{t^{4}} + \\frac{a_{2}^{2} - 2 c_{2} l_{1} - 3 l_{1}^{2} - 4 a_{4} - c_{4} - 5 l_{2}}{t^{2}} - c_{2} l_{1}^{2} - l_{1}^{3} + 4 a_{2} l_{2} - 2 c_{2} l_{2} - c_{4} l_{1} - 6 l_{2} l_{1} - 6 a_{6} - c_{6} - 7 l_{4} + O(t)</script></html>"
      ],
      "text/plain": [
       "(-2*a_2 - c_2 - 3*l_1)*t^-4 + (a_2^2 - 2*c_2*l_1 - 3*l_1^2 - 4*a_4 - c_4 - 5*l_2)*t^-2 + (-c_2*l_1^2 - l_1^3 + 4*a_2*l_2 - 2*c_2*l_2 - c_4*l_1 - 6*l_2*l_1 - 6*a_6 - c_6 - 7*l_4) + O(t)"
      ]
     },
     "metadata": {},
     "output_type": "display_data"
    }
   ],
   "source": [
    "Y.<e,a_2,a_4,a_6,c_2,c_4,c_6,l_2,l_4,l_1,x_0> = QQ[] # c_2,c_4 and c_6 represent a'_2, a'_4 and a'_6\n",
    "V = FractionField(Y)\n",
    "R.<u,v> = V[]\n",
    "V_1 = FractionField(R)\n",
    "N.<t> = LaurentSeriesRing(V_1 ,'t')\n",
    " \n",
    "a_1 = 0   ; a_3 = 0  \n",
    "u_1=a_1; u_2=-a_2; u_3=a_3;u_4= -(a_1*a_3+a_4);u_5= a_2*a_3+a_1^2*a_3+a_1*a_4;\n",
    "u_6 = -(a_1^2*a_4+a_1^3+a_2*a_4+2*a_1*a_2*a_3+a_3^2+a_6); \n",
    "x = t^(-2)+u_1*t^(-1)+u_2+u_3*t+u_4*t^2+u_5*t^3+u_6*t^4+O(t^5)\n",
    "y = x/t\n",
    "\n",
    "\n",
    "\n",
    "X_1 =  1/t^2+l_1+l_2*t^2+l_4*t^4+O(t^5)\n",
    "print (X_1)\n",
    "print ((X_1.derivative())/(x.derivative()))\n",
    "Y_1 = y*((X_1.derivative())/(x.derivative()))\n",
    " \n",
    "rlt = Y_1^2 -X_1^3-c_2*X_1^2-c_4*X_1-c_6\n",
    "show(rlt)"
   ]
  },
  {
   "cell_type": "code",
   "execution_count": 4,
   "metadata": {},
   "outputs": [
    {
     "data": {
      "text/html": [
       "<html><script type=\"math/tex; mode=display\">\\newcommand{\\Bold}[1]{\\mathbf{#1}}1 + \\left(-a_{4} - l_{2}\\right)t^{4} + \\left(-2 a_{2} a_{4} - 2 a_{6} - 2 l_{4}\\right)t^{6} + O(t^{7})</script></html>"
      ],
      "text/plain": [
       "1 + (-a_4 - l_2)*t^4 + (-2*a_2*a_4 - 2*a_6 - 2*l_4)*t^6 + O(t^7)"
      ]
     },
     "metadata": {},
     "output_type": "display_data"
    },
    {
     "data": {
      "text/html": [
       "<html><script type=\"math/tex; mode=display\">\\newcommand{\\Bold}[1]{\\mathbf{#1}}0 + \\cdots</script></html>"
      ],
      "text/plain": [
       "O(t^1)"
      ]
     },
     "metadata": {},
     "output_type": "display_data"
    }
   ],
   "source": [
    "Y.<e,a_2,a_4,a_6,l_2,l_4,l_1,x_0> = QQ[] # c_2,c_4 and c_6 represent a'_2, a'_4 and a'_6\n",
    "V = FractionField(Y)\n",
    "R.<u,v> = V[]\n",
    "V_1 = FractionField(R)\n",
    "N.<t> = LaurentSeriesRing(V_1 ,'t')\n",
    " \n",
    "a_1 = 0   ; a_3 = 0  \n",
    "u_1=a_1; u_2=-a_2; u_3=a_3;u_4= -(a_1*a_3+a_4);u_5= a_2*a_3+a_1^2*a_3+a_1*a_4;\n",
    "u_6 = -(a_1^2*a_4+a_1^3+a_2*a_4+2*a_1*a_2*a_3+a_3^2+a_6); \n",
    "x = t^(-2)+u_1*t^(-1)+u_2+u_3*t+u_4*t^2+u_5*t^3+u_6*t^4+O(t^5)\n",
    "y = x/t\n",
    "\n",
    "\n",
    "\n",
    "X_1 =  1/t^2+l_1+l_2*t^2+l_4*t^4+O(t^5)\n",
    " \n",
    "show((X_1.derivative())/(x.derivative()))\n",
    "Y_1 = y*((X_1.derivative())/(x.derivative()))\n",
    "c_2 = -2*a_2- 3*l_1\n",
    "c_4 = a_2^2 + 4*a_2*l_1 + 3*l_1^2 - 4*a_4  - 5*l_2\n",
    "c_6 = -a_2^2*l_1 - 2*a_2*l_1^2 - l_1^3 + 8*a_2*l_2 + 4*a_4*l_1 + 5*l_2*l_1 - 6*a_6  - 7*l_4\n",
    " \n",
    "rlt = Y_1^2 -X_1^3-c_2*X_1^2-c_4*X_1-c_6\n",
    "show(rlt)"
   ]
  },
  {
   "cell_type": "code",
   "execution_count": null,
   "metadata": {},
   "outputs": [],
   "source": []
  }
 ],
 "metadata": {
  "kernelspec": {
   "display_name": "SageMath 8.7",
   "language": "",
   "name": "sagemath"
  },
  "language_info": {
   "codemirror_mode": {
    "name": "ipython",
    "version": 2
   },
   "file_extension": ".py",
   "mimetype": "text/x-python",
   "name": "python",
   "nbconvert_exporter": "python",
   "pygments_lexer": "ipython2",
   "version": "2.7.15"
  }
 },
 "nbformat": 4,
 "nbformat_minor": 2
}
