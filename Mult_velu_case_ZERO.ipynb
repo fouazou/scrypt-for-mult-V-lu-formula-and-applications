{
 "cells": [
  {
   "cell_type": "code",
   "execution_count": 32,
   "metadata": {},
   "outputs": [
    {
     "data": {
      "text/html": [
       "<html><script type=\"math/tex; mode=display\">\\newcommand{\\Bold}[1]{\\mathbf{#1}}\\frac{x^{2} + \\left(\\frac{-4 a_{2} u x_{0} - 2 u^{2} x_{0} - 2 u x_{0}^{2} - 2 a_{4} u - 2 a_{4} x_{0} - 4 a_{6}}{u^{2} - 2 u x_{0} + x_{0}^{2}}\\right) x + \\frac{u^{2} x_{0}^{2} - 2 a_{4} u x_{0} + a_{4}^{2} - 4 a_{2} a_{6} - 4 a_{6} u - 4 a_{6} x_{0}}{u^{2} - 2 u x_{0} + x_{0}^{2}}}{x^{2} - 2 u x + u^{2}}</script></html>"
      ],
      "text/plain": [
       "(x^2 + ((-4*a_2*u*x_0 - 2*u^2*x_0 - 2*u*x_0^2 - 2*a_4*u - 2*a_4*x_0 - 4*a_6)/(u^2 - 2*u*x_0 + x_0^2))*x + (u^2*x_0^2 - 2*a_4*u*x_0 + a_4^2 - 4*a_2*a_6 - 4*a_6*u - 4*a_6*x_0)/(u^2 - 2*u*x_0 + x_0^2))/(x^2 - 2*u*x + u^2)"
      ]
     },
     "metadata": {},
     "output_type": "display_data"
    },
    {
     "data": {
      "text/html": [
       "<html><script type=\"math/tex; mode=display\">\\newcommand{\\Bold}[1]{\\mathbf{#1}}\\frac{x + \\frac{2 a_{2} e + 2 e^{2} + e x_{0} + a_{4}}{e - x_{0}}}{x - e}</script></html>"
      ],
      "text/plain": [
       "(x + (2*a_2*e + 2*e^2 + e*x_0 + a_4)/(e - x_0))/(x - e)"
      ]
     },
     "metadata": {},
     "output_type": "display_data"
    }
   ],
   "source": [
    "Y.<a_2,a_4,a_6,e,u,x_0> = QQ[]\n",
    "V = FractionField(Y)\n",
    "M.<x> = V[]\n",
    "a_1 = 0\n",
    "a_3 = 0\n",
    "p = (u^2*x^2 + ((-a_1*a_3 - 2*a_4)*u - a_3^2 - 4*a_6)*x + (-a_3^2 - 4*a_6)*u - a_2*a_3^2 + a_1*a_3*a_4 - a_1^2*a_6 + a_4^2 - 4*a_2*a_6)/(x^2 - 2*u*x + u^2)\n",
    "s = (2*u*x^2 + (2*u^2 + (a_1^2 + 4*a_2)*u + a_1*a_3 + 2*a_4)*x + (a_1*a_3 + 2*a_4)*u + a_3^2 + 4*a_6)/(x^2 - 2*u*x + u^2)\n",
    "F = (p-x_0*(s)+x_0^2)/(u-x_0)^2\n",
    "show(F)\n",
    "show(((e*x + 2*e^2 + 2*a_2*e + a_4)/(x - e)-x_0)/(e-x_0))"
   ]
  },
  {
   "cell_type": "code",
   "execution_count": 15,
   "metadata": {},
   "outputs": [
    {
     "data": {
      "text/html": [
       "<html><script type=\"math/tex; mode=display\">\\newcommand{\\Bold}[1]{\\mathbf{#1}}1 + \\left(\\frac{2 u^{3} - 4 a_{2} u x_{0} - 6 u^{2} x_{0} - 2 a_{4} u - 2 a_{4} x_{0} - 4 a_{6}}{u^{2} - 2 u x_{0} + x_{0}^{2}}\\right)t^{2} + \\left(\\frac{2 a_{2} u^{3} + 3 u^{4} - 4 a_{2}^{2} u x_{0} - 14 a_{2} u^{2} x_{0} - 10 u^{3} x_{0} - 2 a_{2} a_{4} u - 4 a_{4} u^{2} - 2 a_{2} a_{4} x_{0} - 6 a_{4} u x_{0} + a_{4}^{2} - 8 a_{2} a_{6} - 12 a_{6} u - 4 a_{6} x_{0}}{u^{2} - 2 u x_{0} + x_{0}^{2}}\\right)t^{4} + O(t^{6})</script></html>"
      ],
      "text/plain": [
       "1 + ((2*u^3 - 4*a_2*u*x_0 - 6*u^2*x_0 - 2*a_4*u - 2*a_4*x_0 - 4*a_6)/(u^2 - 2*u*x_0 + x_0^2))*t^2 + ((2*a_2*u^3 + 3*u^4 - 4*a_2^2*u*x_0 - 14*a_2*u^2*x_0 - 10*u^3*x_0 - 2*a_2*a_4*u - 4*a_4*u^2 - 2*a_2*a_4*x_0 - 6*a_4*u*x_0 + a_4^2 - 8*a_2*a_6 - 12*a_6*u - 4*a_6*x_0)/(u^2 - 2*u*x_0 + x_0^2))*t^4 + O(t^6)"
      ]
     },
     "metadata": {},
     "output_type": "display_data"
    },
    {
     "data": {
      "text/html": [
       "<html><script type=\"math/tex; mode=display\">\\newcommand{\\Bold}[1]{\\mathbf{#1}}1 + \\left(\\frac{2 a_{2} e + 3 e^{2} + a_{4}}{e - x_{0}}\\right)t^{2} + \\left(\\frac{2 a_{2}^{2} e + 2 a_{2} e^{2} + a_{2} a_{4} - 2 a_{4} e - 3 a_{6}}{e - x_{0}}\\right)t^{4} + O(t^{6})</script></html>"
      ],
      "text/plain": [
       "1 + ((2*a_2*e + 3*e^2 + a_4)/(e - x_0))*t^2 + ((2*a_2^2*e + 2*a_2*e^2 + a_2*a_4 - 2*a_4*e - 3*a_6)/(e - x_0))*t^4 + O(t^6)"
      ]
     },
     "metadata": {},
     "output_type": "display_data"
    }
   ],
   "source": [
    "Y.<a_2,a_4,a_6,e,u,x_0> = QQ[]\n",
    "V = FractionField(Y)\n",
    "N.<t> = LaurentSeriesRing(V ,'t')\n",
    "a_1 = 0   ; a_3 = 0  \n",
    " \n",
    "u_1=a_1; u_2=-a_2; u_3=a_3;u_4= -(a_1*a_3+a_4);u_5= a_2*a_3+a_1^2*a_3+a_1*a_4;\n",
    "u_6 = -(a_1^2*a_4+a_1^3+a_2*a_4+2*a_1*a_2*a_3+a_3^2+a_6); \n",
    "x = t^(-2)+u_1*t^(-1)+u_2+u_3*t+u_4*t^2+u_5*t^3+u_6*t^4+O(t^5)\n",
    "y = x/t\n",
    "F = (x^2 + ((-4*a_2*u*x_0 - 2*u^2*x_0 - 2*u*x_0^2 - 2*a_4*u - 2*a_4*x_0 - 4*a_6)/(u^2 - 2*u*x_0 + x_0^2))*x + (u^2*x_0^2 - 2*a_4*u*x_0 + a_4^2 - 4*a_2*a_6 - 4*a_6*u - 4*a_6*x_0)/(u^2 - 2*u*x_0 + x_0^2))/(x^2 - 2*u*x + u^2) \n",
    "F_1 = (x + (2*a_2*e + 2*e^2 + e*x_0 + a_4)/(e - x_0))/(x - e)\n",
    "\n",
    "show(F+O(t^6))\n",
    " \n",
    "F_1 =1 + ((2*a_2*e + 3*e^2 + a_4)/(e - x_0))*t^2 + ((2*a_2^2*e + 5*a_2*e^2 + 3*(-a_2*e^2-a_4*e-a_6) + a_2*a_4 + a_4*e)/(e - x_0))*t^4 + O(t^6)\n",
    "show(F_1)"
   ]
  },
  {
   "cell_type": "code",
   "execution_count": 25,
   "metadata": {},
   "outputs": [
    {
     "data": {
      "text/html": [
       "<html><script type=\"math/tex; mode=display\">\\newcommand{\\Bold}[1]{\\mathbf{#1}}1 + \\left(a_{2} l_{2} + l_{2} x_{0} - l_{4}\\right)t^{4} + O(t^{6})</script></html>"
      ],
      "text/plain": [
       "1 + (a_2*l_2 + l_2*x_0 - l_4)*t^4 + O(t^6)"
      ]
     },
     "metadata": {},
     "output_type": "display_data"
    },
    {
     "data": {
      "text/html": [
       "<html><script type=\"math/tex; mode=display\">\\newcommand{\\Bold}[1]{\\mathbf{#1}}\\frac{a_{2} - c_{2} - 3 l_{2} + 3 x_{0}}{t^{4}} + \\frac{-2 a_{2}^{2} + 2 a_{2} c_{2} + 11 a_{2} l_{2} - 2 c_{2} l_{2} - 3 l_{2}^{2} - 6 a_{2} x_{0} + 2 c_{2} x_{0} + 11 l_{2} x_{0} - 3 x_{0}^{2} + a_{4} - c_{4} - 5 l_{4}}{t^{2}} + O(1)</script></html>"
      ],
      "text/plain": [
       "(a_2 - c_2 - 3*l_2 + 3*x_0)*t^-4 + (-2*a_2^2 + 2*a_2*c_2 + 11*a_2*l_2 - 2*c_2*l_2 - 3*l_2^2 - 6*a_2*x_0 + 2*c_2*x_0 + 11*l_2*x_0 - 3*x_0^2 + a_4 - c_4 - 5*l_4)*t^-2 + O(1)"
      ]
     },
     "metadata": {},
     "output_type": "display_data"
    }
   ],
   "source": [
    "Y.<e,a_2,a_4,a_6,c_2,c_4,c_6,l_2,l_4,x_0> = QQ[] # c_2,c_4 and c_6 represent a'_2, a'_4 and a'_6\n",
    "V = FractionField(Y)\n",
    "R.<u,v> = V[]\n",
    "V_1 = FractionField(R)\n",
    "N.<t> = LaurentSeriesRing(V_1 ,'t')\n",
    " \n",
    "a_1 = 0   ; a_3 = 0  \n",
    "u_1=a_1; u_2=-a_2; u_3=a_3;u_4= -(a_1*a_3+a_4);u_5= a_2*a_3+a_1^2*a_3+a_1*a_4;\n",
    "u_6 = -(a_1^2*a_4+a_1^3+a_2*a_4+2*a_1*a_2*a_3+a_3^2+a_6); \n",
    "x = t^(-2)+u_1*t^(-1)+u_2+u_3*t+u_4*t^2+u_5*t^3+u_6*t^4+O(t^5)\n",
    "y = x/t\n",
    "\n",
    "\n",
    "\n",
    "X_1 = (x-x_0)*(1+l_2*t^2+l_4*t^4+O(t^6))\n",
    "show((X_1.derivative())/(x.derivative()))\n",
    "Y_1 = y*((X_1.derivative())/(x.derivative()))\n",
    "rlt = Y_1^2 -X_1^3-c_2*X_1^2-c_4*X_1-c_6\n",
    "show(rlt)"
   ]
  },
  {
   "cell_type": "code",
   "execution_count": 26,
   "metadata": {},
   "outputs": [
    {
     "data": {
      "text/html": [
       "<html><script type=\"math/tex; mode=display\">\\newcommand{\\Bold}[1]{\\mathbf{#1}}1 + \\left(a_{2} l_{2} + l_{2} x_{0} - l_{4}\\right)t^{4} + O(t^{6})</script></html>"
      ],
      "text/plain": [
       "1 + (a_2*l_2 + l_2*x_0 - l_4)*t^4 + O(t^6)"
      ]
     },
     "metadata": {},
     "output_type": "display_data"
    },
    {
     "data": {
      "text/html": [
       "<html><script type=\"math/tex; mode=display\">\\newcommand{\\Bold}[1]{\\mathbf{#1}}\\frac{3 a_{2} l_{2} + 3 l_{2}^{2} + 2 a_{2} x_{0} - l_{2} x_{0} + 3 x_{0}^{2} + a_{4} - c_{4} - 5 l_{4}}{t^{2}} + O(1)</script></html>"
      ],
      "text/plain": [
       "(3*a_2*l_2 + 3*l_2^2 + 2*a_2*x_0 - l_2*x_0 + 3*x_0^2 + a_4 - c_4 - 5*l_4)*t^-2 + O(1)"
      ]
     },
     "metadata": {},
     "output_type": "display_data"
    }
   ],
   "source": [
    "Y.<e,a_2,a_4,a_6,c_4,c_6,l_2,l_4,x_0> = QQ[] # c_2,c_4 and c_6 represent a'_2, a'_4 and a'_6\n",
    "V = FractionField(Y)\n",
    "R.<u,v> = V[]\n",
    "V_1 = FractionField(R)\n",
    "N.<t> = LaurentSeriesRing(V_1 ,'t')\n",
    " \n",
    "a_1 = 0   ; a_3 = 0  \n",
    "u_1=a_1; u_2=-a_2; u_3=a_3;u_4= -(a_1*a_3+a_4);u_5= a_2*a_3+a_1^2*a_3+a_1*a_4;\n",
    "u_6 = -(a_1^2*a_4+a_1^3+a_2*a_4+2*a_1*a_2*a_3+a_3^2+a_6); \n",
    "x = t^(-2)+u_1*t^(-1)+u_2+u_3*t+u_4*t^2+u_5*t^3+u_6*t^4+O(t^5)\n",
    "y = x/t\n",
    "\n",
    "c_2 = a_2-3*l_2+3*x_0\n",
    "X_1 = (x-x_0)*(1+l_2*t^2+l_4*t^4+O(t^6))\n",
    "show((X_1.derivative())/(x.derivative()))\n",
    "Y_1 = y*((X_1.derivative())/(x.derivative()))\n",
    "rlt = Y_1^2 -X_1^3-c_2*X_1^2-c_4*X_1-c_6\n",
    "show(rlt)"
   ]
  },
  {
   "cell_type": "code",
   "execution_count": 31,
   "metadata": {},
   "outputs": [
    {
     "data": {
      "text/html": [
       "<html><script type=\"math/tex; mode=display\">\\newcommand{\\Bold}[1]{\\mathbf{#1}}\\frac{-4 a_{2} u x_{0}^{2} - 4 u x_{0}^{3} + x_{0}^{4} - 4 a_{4} u x_{0} - 2 a_{4} x_{0}^{2} + a_{4}^{2} - 4 a_{2} a_{6} - 4 a_{6} u - 8 a_{6} x_{0}}{u^{4} - 4 u^{3} x_{0} + 6 u^{2} x_{0}^{2} - 4 u x_{0}^{3} + x_{0}^{4}}</script></html>"
      ],
      "text/plain": [
       "(-4*a_2*u*x_0^2 - 4*u*x_0^3 + x_0^4 - 4*a_4*u*x_0 - 2*a_4*x_0^2 + a_4^2 - 4*a_2*a_6 - 4*a_6*u - 8*a_6*x_0)/(u^4 - 4*u^3*x_0 + 6*u^2*x_0^2 - 4*u*x_0^3 + x_0^4)"
      ]
     },
     "metadata": {},
     "output_type": "display_data"
    },
    {
     "data": {
      "text/html": [
       "<html><script type=\"math/tex; mode=display\">\\newcommand{\\Bold}[1]{\\mathbf{#1}}\\frac{2 a_{2} e + 2 e^{2} + 2 e x_{0} - x_{0}^{2} + a_{4}}{-e^{2} + 2 e x_{0} - x_{0}^{2}}</script></html>"
      ],
      "text/plain": [
       "(2*a_2*e + 2*e^2 + 2*e*x_0 - x_0^2 + a_4)/(-e^2 + 2*e*x_0 - x_0^2)"
      ]
     },
     "metadata": {},
     "output_type": "display_data"
    }
   ],
   "source": [
    "Y.<a_2,a_4,a_6,e,u,x_0> = QQ[]\n",
    "V = FractionField(Y)\n",
    "M.<x> = V[]\n",
    "F =(x^2 + ((-4*a_2*u*x_0 - 2*u^2*x_0 - 2*u*x_0^2 - 2*a_4*u - 2*a_4*x_0 - 4*a_6)/(u^2 - 2*u*x_0 + x_0^2))*x + (u^2*x_0^2 - 2*a_4*u*x_0 + a_4^2 - 4*a_2*a_6 - 4*a_6*u - 4*a_6*x_0)/(u^2 - 2*u*x_0 + x_0^2))/(x^2 - 2*u*x + u^2)\n",
    "\n",
    "F_1 = (x + (2*a_2*e + 2*e^2 + e*x_0 + a_4)/(e - x_0))/(x - e)\n",
    "\n",
    "show(F(x_0))\n",
    "show(F_1(x_0))"
   ]
  },
  {
   "cell_type": "code",
   "execution_count": null,
   "metadata": {},
   "outputs": [],
   "source": []
  }
 ],
 "metadata": {
  "kernelspec": {
   "display_name": "SageMath 8.7",
   "language": "",
   "name": "sagemath"
  },
  "language_info": {
   "codemirror_mode": {
    "name": "ipython",
    "version": 2
   },
   "file_extension": ".py",
   "mimetype": "text/x-python",
   "name": "python",
   "nbconvert_exporter": "python",
   "pygments_lexer": "ipython2",
   "version": "2.7.15"
  }
 },
 "nbformat": 4,
 "nbformat_minor": 2
}
