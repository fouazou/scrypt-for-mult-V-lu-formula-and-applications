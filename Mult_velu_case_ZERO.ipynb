{
 "cells": [
  {
   "cell_type": "code",
   "execution_count": 3,
   "metadata": {},
   "outputs": [
    {
     "data": {
      "text/html": [
       "<html><script type=\"math/tex; mode=display\">\\newcommand{\\Bold}[1]{\\mathbf{#1}}1 + \\left(\\frac{2 u^{3} - 4 a_{2} u x_{0} - 6 u^{2} x_{0} - 2 a_{4} u - 2 a_{4} x_{0} - 4 a_{6}}{u^{2} - 2 u x_{0} + x_{0}^{2}}\\right)t^{2} + \\left(\\frac{2 a_{2} u^{3} + 3 u^{4} - 4 a_{2}^{2} u x_{0} - 14 a_{2} u^{2} x_{0} - 10 u^{3} x_{0} - 2 a_{2} a_{4} u - 4 a_{4} u^{2} - 2 a_{2} a_{4} x_{0} - 6 a_{4} u x_{0} + a_{4}^{2} - 8 a_{2} a_{6} - 12 a_{6} u - 4 a_{6} x_{0}}{u^{2} - 2 u x_{0} + x_{0}^{2}}\\right)t^{4} + O(t^{6})</script></html>"
      ],
      "text/plain": [
       "1 + ((2*u^3 - 4*a_2*u*x_0 - 6*u^2*x_0 - 2*a_4*u - 2*a_4*x_0 - 4*a_6)/(u^2 - 2*u*x_0 + x_0^2))*t^2 + ((2*a_2*u^3 + 3*u^4 - 4*a_2^2*u*x_0 - 14*a_2*u^2*x_0 - 10*u^3*x_0 - 2*a_2*a_4*u - 4*a_4*u^2 - 2*a_2*a_4*x_0 - 6*a_4*u*x_0 + a_4^2 - 8*a_2*a_6 - 12*a_6*u - 4*a_6*x_0)/(u^2 - 2*u*x_0 + x_0^2))*t^4 + O(t^6)"
      ]
     },
     "metadata": {},
     "output_type": "display_data"
    },
    {
     "data": {
      "text/html": [
       "<html><script type=\"math/tex; mode=display\">\\newcommand{\\Bold}[1]{\\mathbf{#1}}1 + \\left(\\frac{2 a_{2} e + 3 e^{2} + a_{4}}{e - x_{0}}\\right)t^{2} + \\left(\\frac{2 a_{2}^{2} e + 5 a_{2} e^{2} + 3 e^{3} + a_{2} a_{4} + a_{4} e}{e - x_{0}}\\right)t^{4} + O(t^{6})</script></html>"
      ],
      "text/plain": [
       "1 + ((2*a_2*e + 3*e^2 + a_4)/(e - x_0))*t^2 + ((2*a_2^2*e + 5*a_2*e^2 + 3*e^3 + a_2*a_4 + a_4*e)/(e - x_0))*t^4 + O(t^6)"
      ]
     },
     "metadata": {},
     "output_type": "display_data"
    }
   ],
   "source": [
    "Y.<a_2,a_4,a_6,e,u,x_0> = QQ[]\n",
    "V = FractionField(Y)\n",
    "N.<t> = LaurentSeriesRing(V ,'t')\n",
    "a_1 = 0   ; a_3 = 0  \n",
    " \n",
    "u_1=a_1; u_2=-a_2; u_3=a_3;u_4= -(a_1*a_3+a_4);u_5= a_2*a_3+a_1^2*a_3+a_1*a_4;\n",
    "u_6 = -(a_1^2*a_4+a_1^3+a_2*a_4+2*a_1*a_2*a_3+a_3^2+a_6); \n",
    "x = t^(-2)+u_1*t^(-1)+u_2+u_3*t+u_4*t^2+u_5*t^3+u_6*t^4+O(t^5)\n",
    "y = x/t\n",
    "p = (u^2*x^2 + ((-a_1*a_3 - 2*a_4)*u - a_3^2 - 4*a_6)*x + (-a_3^2 - 4*a_6)*u - a_2*a_3^2 + a_1*a_3*a_4 - a_1^2*a_6 + a_4^2 - 4*a_2*a_6)/(x^2 - 2*u*x + u^2)\n",
    "s = (2*u*x^2 + (2*u^2 + (a_1^2 + 4*a_2)*u + a_1*a_3 + 2*a_4)*x + (a_1*a_3 + 2*a_4)*u + a_3^2 + 4*a_6)/(x^2 - 2*u*x + u^2)\n",
    "F = (p-x_0*(s)+x_0^2)/(u-x_0)^2 # for points of order different from 2\n",
    "show(F+O(t^6))\n",
    "F_e=(((e*x + 2*e^2 + 2*a_2*e + a_4)/(x - e)-x_0)/(e-x_0)) # for points of order   2\n",
    "show(F_e+O(t^6))"
   ]
  },
  {
   "cell_type": "code",
   "execution_count": 25,
   "metadata": {},
   "outputs": [
    {
     "data": {
      "text/html": [
       "<html><script type=\"math/tex; mode=display\">\\newcommand{\\Bold}[1]{\\mathbf{#1}}1 + \\left(a_{2} l_{2} + l_{2} x_{0} - l_{4}\\right)t^{4} + O(t^{6})</script></html>"
      ],
      "text/plain": [
       "1 + (a_2*l_2 + l_2*x_0 - l_4)*t^4 + O(t^6)"
      ]
     },
     "metadata": {},
     "output_type": "display_data"
    },
    {
     "data": {
      "text/html": [
       "<html><script type=\"math/tex; mode=display\">\\newcommand{\\Bold}[1]{\\mathbf{#1}}\\frac{a_{2} - c_{2} - 3 l_{2} + 3 x_{0}}{t^{4}} + \\frac{-2 a_{2}^{2} + 2 a_{2} c_{2} + 11 a_{2} l_{2} - 2 c_{2} l_{2} - 3 l_{2}^{2} - 6 a_{2} x_{0} + 2 c_{2} x_{0} + 11 l_{2} x_{0} - 3 x_{0}^{2} + a_{4} - c_{4} - 5 l_{4}}{t^{2}} + O(1)</script></html>"
      ],
      "text/plain": [
       "(a_2 - c_2 - 3*l_2 + 3*x_0)*t^-4 + (-2*a_2^2 + 2*a_2*c_2 + 11*a_2*l_2 - 2*c_2*l_2 - 3*l_2^2 - 6*a_2*x_0 + 2*c_2*x_0 + 11*l_2*x_0 - 3*x_0^2 + a_4 - c_4 - 5*l_4)*t^-2 + O(1)"
      ]
     },
     "metadata": {},
     "output_type": "display_data"
    }
   ],
   "source": [
    "Y.<e,a_2,a_4,a_6,c_2,c_4,c_6,l_2,l_4,x_0> = QQ[] # c_2,c_4 and c_6 represent a'_2, a'_4 and a'_6\n",
    "V = FractionField(Y)\n",
    "R.<u,v> = V[]\n",
    "V_1 = FractionField(R)\n",
    "N.<t> = LaurentSeriesRing(V_1 ,'t')\n",
    " \n",
    "a_1 = 0   ; a_3 = 0  \n",
    "u_1=a_1; u_2=-a_2; u_3=a_3;u_4= -(a_1*a_3+a_4);u_5= a_2*a_3+a_1^2*a_3+a_1*a_4;\n",
    "u_6 = -(a_1^2*a_4+a_1^3+a_2*a_4+2*a_1*a_2*a_3+a_3^2+a_6); \n",
    "x = t^(-2)+u_1*t^(-1)+u_2+u_3*t+u_4*t^2+u_5*t^3+u_6*t^4+O(t^5)\n",
    "y = x/t\n",
    "\n",
    "\n",
    "\n",
    "X_1 = (x-x_0)*(1+l_2*t^2+l_4*t^4+O(t^6))\n",
    "show(X_1)\n",
    "Y_1 = y*((X_1.derivative())/(x.derivative()))\n",
    "rlt = Y_1^2 -X_1^3-c_2*X_1^2-c_4*X_1-c_6\n",
    "show(rlt)"
   ]
  },
  {
   "cell_type": "code",
   "execution_count": 4,
   "metadata": {},
   "outputs": [
    {
     "data": {
      "text/html": [
       "<html><script type=\"math/tex; mode=display\">\\newcommand{\\Bold}[1]{\\mathbf{#1}}1 + \\left(a_{2} l_{2} + l_{2} x_{0} - l_{4}\\right)t^{4} + O(t^{6})</script></html>"
      ],
      "text/plain": [
       "1 + (a_2*l_2 + l_2*x_0 - l_4)*t^4 + O(t^6)"
      ]
     },
     "metadata": {},
     "output_type": "display_data"
    },
    {
     "name": "stdout",
     "output_type": "stream",
     "text": [
      "O(t^0)\n"
     ]
    }
   ],
   "source": [
    "Y.<e,a_2,a_4,a_6,c_6,l_2,l_4,x_0> = QQ[] # c_2,c_4 and c_6 represent a'_2, a'_4 and a'_6\n",
    "V = FractionField(Y)\n",
    "R.<u,v> = V[]\n",
    "V_1 = FractionField(R)\n",
    "N.<t> = LaurentSeriesRing(V_1 ,'t')\n",
    " \n",
    "a_1 = 0   ; a_3 = 0  \n",
    "u_1=a_1; u_2=-a_2; u_3=a_3;u_4= -(a_1*a_3+a_4);u_5= a_2*a_3+a_1^2*a_3+a_1*a_4;\n",
    "u_6 = -(a_1^2*a_4+a_1^3+a_2*a_4+2*a_1*a_2*a_3+a_3^2+a_6); \n",
    "x = t^(-2)+u_1*t^(-1)+u_2+u_3*t+u_4*t^2+u_5*t^3+u_6*t^4+O(t^5)\n",
    "y = x/t\n",
    "\n",
    "c_2 = a_2-3*l_2+3*x_0\n",
    "c_4 = 3*a_2*l_2 + 3*l_2^2 + 2*a_2*x_0 - l_2*x_0 + 3*x_0^2 + a_4   - 5*l_4\n",
    "X_1 = (x-x_0)*(1+l_2*t^2+l_4*t^4+O(t^6))\n",
    "show((X_1.derivative())/(x.derivative()))\n",
    "Y_1 = y*((X_1.derivative())/(x.derivative()))\n",
    "rlt = Y_1^2 -X_1^3-c_2*X_1^2-c_4*X_1-c_6\n",
    "print (rlt)"
   ]
  },
  {
   "cell_type": "code",
   "execution_count": 2,
   "metadata": {},
   "outputs": [
    {
     "name": "stdout",
     "output_type": "stream",
     "text": [
      "True\n"
     ]
    },
    {
     "data": {
      "text/html": [
       "<html><script type=\"math/tex; mode=display\">\\newcommand{\\Bold}[1]{\\mathbf{#1}}19</script></html>"
      ],
      "text/plain": [
       "19"
      ]
     },
     "metadata": {},
     "output_type": "display_data"
    },
    {
     "data": {
      "text/html": [
       "<html><script type=\"math/tex; mode=display\">\\newcommand{\\Bold}[1]{\\mathbf{#1}}11</script></html>"
      ],
      "text/plain": [
       "11"
      ]
     },
     "metadata": {},
     "output_type": "display_data"
    },
    {
     "data": {
      "text/html": [
       "<html><script type=\"math/tex; mode=display\">\\newcommand{\\Bold}[1]{\\mathbf{#1}}97</script></html>"
      ],
      "text/plain": [
       "97"
      ]
     },
     "metadata": {},
     "output_type": "display_data"
    },
    {
     "data": {
      "text/html": [
       "<html><script type=\"math/tex; mode=display\">\\newcommand{\\Bold}[1]{\\mathbf{#1}}\\frac{x^{10} + 63 x^{9} + 78 x^{8} + 4 x^{7} + 3 x^{6} + 59 x^{5} + 81 x^{4} + 89 x^{3} + 70 x^{2} + 38 x + 60}{x^{9} + 69 x^{8} + 66 x^{7} + 33 x^{6} + 49 x^{5} + 7 x^{4} + 24 x^{3} + 29 x^{2}}</script></html>"
      ],
      "text/plain": [
       "(x^10 + 63*x^9 + 78*x^8 + 4*x^7 + 3*x^6 + 59*x^5 + 81*x^4 + 89*x^3 + 70*x^2 + 38*x + 60)/(x^9 + 69*x^8 + 66*x^7 + 33*x^6 + 49*x^5 + 7*x^4 + 24*x^3 + 29*x^2)"
      ]
     },
     "metadata": {},
     "output_type": "display_data"
    }
   ],
   "source": [
    "#-------------------------------------------begin setup-----------------------------------------------------------------------\n",
    "# for your example put in K and the a_i the field of definition of your curve and its parameters respectively. \n",
    "# In P the generator of your subgroup G and in x_0 the first coordinate of a point which is not in G=<u>. \n",
    "# Are the only variables you need to change in this scrypt. \n",
    "# this scrypt will return  parameter of your co-domain curve and the first coordinate of the isogeny of kernel G=<P>\n",
    "\n",
    "Y.<x> = GF(101)[]\n",
    "a_2=GF(101)(1); a_4=GF(101)(1); a_6=GF(101)(4)\n",
    "E = EllipticCurve(GF(101),[0,a_2,0,a_4,a_6])\n",
    "x_0 = 39\n",
    "u=x\n",
    "C_1 = (2*u^3 - 4*a_2*u*x_0 - 6*u^2*x_0 - 2*a_4*u - 2*a_4*x_0 - 4*a_6)/(u^2 - 2*u*x_0 + x_0^2);\n",
    "C1= (2*a_2*u + 3*u^2 + a_4)/(u - x_0)\n",
    "C_2 = (2*a_2*u^3 + 3*u^4 - 4*a_2^2*u*x_0 - 14*a_2*u^2*x_0 - 10*u^3*x_0 - 2*a_2*a_4*u - 4*a_4*u^2 - 2*a_2*a_4*x_0 - 6*a_4*u*x_0 + a_4^2 - 8*a_2*a_6 - 12*a_6*u - 4*a_6*x_0)/(u^2 - 2*u*x_0 + x_0^2);\n",
    "C2 = (2*a_2^2*u + 5*a_2*u^2 + 3*u^3 + a_2*a_4 + a_4*u)/(u - x_0)\n",
    "P=E((0,2)); n=P.order();\n",
    "#------------------------------------------end setup---------------------------------------------------------------------------------------------------------------\n",
    "\n",
    "if (n%2)==1:\n",
    "    k=(n-1)/2;\n",
    "else:\n",
    "    k=(n-2)/2+1;\n",
    "sum11=0;sum12=0;sum13=0;\n",
    "sum21=0;sum22=0;sum23=0;\n",
    "for i in range(1,k+1):\n",
    "    Q = i*P\n",
    "    if Q.order()==2:\n",
    "        sum11 = sum11+C1(Q[0])\n",
    "        sum12 = sum12+C1(Q[0])^2\n",
    "        sum13 = sum13+C2(Q[0])\n",
    "    else:\n",
    "        sum21 = sum21+C_1(Q[0])\n",
    "        sum22 = sum22+C_1(Q[0])^2\n",
    "        sum23 = sum23+C_2(Q[0])\n",
    "l_2 = sum11+sum21\n",
    "l_4 = sum11*sum21+sum13+sum23+(sum11^2+sum21^2)/2-(sum12+sum22)/2\n",
    "c_2 = a_2-3*l_2+3*x_0; c_4=3*a_2*l_2 + 3*l_2^2 + 2*a_2*x_0 - l_2*x_0 + 3*x_0^2 + a_4  - 5*l_4\n",
    "c_6=x_0^3+a_2*x_0^2+a_4*x_0+a_6\n",
    "I_x=x-x_0\n",
    "for i in range(1,k+1):\n",
    "    Q = i*P \n",
    "    if Q.order()==2:\n",
    "        c_6 = c_6*((2*a_2*(Q[0]) + 2*(Q[0])^2 + 2*(Q[0])*x_0 - x_0^2 + a_4)/(-(Q[0])^2 + 2*(Q[0])*x_0 - x_0^2))^2\n",
    "        I_x = I_x*(x + (2*a_2*(Q[0]) + 2*(Q[0])^2 + (Q[0])*x_0 + a_4)/((Q[0]) - x_0))/(x - (Q[0]))\n",
    "    else:\n",
    "        c_6 = c_6*((-4*a_2*(Q[0])*x_0^2 - 4*(Q[0])*x_0^3 + x_0^4 - 4*a_4*(Q[0])*x_0 - 2*a_4*x_0^2 + a_4^2 - 4*a_2*a_6 - 4*a_6*(Q[0]) - 8*a_6*x_0)/((Q[0])^4 - 4*(Q[0])^3*x_0 + 6*(Q[0])^2*x_0^2 - 4*(Q[0])*x_0^3 + x_0^4))^2 \n",
    "        I_x = I_x*(x^2 + ((-4*a_2*(Q[0])*x_0 - 2*(Q[0])^2*x_0 - 2*(Q[0])*x_0^2 - 2*a_4*(Q[0]) - 2*a_4*x_0 - 4*a_6)/((Q[0])^2 - 2*(Q[0])*x_0 + x_0^2))*x + ((Q[0])^2*x_0^2 - 2*a_4*(Q[0])*x_0 + a_4^2 - 4*a_2*a_6 - 4*a_6*(Q[0]) - 4*a_6*x_0)/((Q[0])^2 - 2*(Q[0])*x_0 + x_0^2))/(x^2 - 2*(Q[0])*x + (Q[0])^2)\n",
    "# the next instruction check in the computed map embeded in the computed curve y^2=x^3+c_2*x^2+c_4*x+c_6\n",
    "print (x^3+a_2*x^2+a_4*x+a_6)*((I_x).derivative())^2-(I_x)^3-c_2*(I_x)^2-c_4*(I_x)-c_6==0    \n",
    "show(c_2);show(c_4);show(c_6)# parameters of your co-domain curve\n",
    "show(I_x) # first coordinate of the isogeny"
   ]
  },
  {
   "cell_type": "code",
   "execution_count": null,
   "metadata": {},
   "outputs": [],
   "source": []
  }
 ],
 "metadata": {
  "kernelspec": {
   "display_name": "SageMath 8.7",
   "language": "",
   "name": "sagemath"
  },
  "language_info": {
   "codemirror_mode": {
    "name": "ipython",
    "version": 2
   },
   "file_extension": ".py",
   "mimetype": "text/x-python",
   "name": "python",
   "nbconvert_exporter": "python",
   "pygments_lexer": "ipython2",
   "version": "2.7.15"
  }
 },
 "nbformat": 4,
 "nbformat_minor": 2
}
