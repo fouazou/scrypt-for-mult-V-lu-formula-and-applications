{
 "cells": [
  {
   "cell_type": "code",
   "execution_count": 35,
   "metadata": {},
   "outputs": [
    {
     "name": "stdout",
     "output_type": "stream",
     "text": [
      "[{e_1: 6*i + 5, e_2: 5*i + 9}, {e_1: 13*i + 5, e_2: 14*i + 9}, {e_1: 4, e_2: 7}, {e_1: 16*i + 6, e_2: 9*i}, {e_1: 12, e_2: 13}, {e_1: 3*i + 6, e_2: 10*i}]\n"
     ]
    }
   ],
   "source": [
    "F.<x> = GF(19)[]\n",
    "K.<i> = GF(19**2, name='i', modulus=x^2+1 )\n",
    "Y.<e_1,e_2> = K[] \n",
    "V = FractionField(Y) \n",
    "R_1.<x,e>  = V[]\n",
    "a = GF(19)(18)\n",
    "b = GF(19)(14)\n",
    "n=5\n",
    "k =(n-1)/2\n",
    "\n",
    "h = x^2-e_1*x+e_2\n",
    "\n",
    "denom1 = h\n",
    "\n",
    "\n",
    "denom1 = R_1(denom1((e*x + 2*e^2 +  a)/(x - e),e).numerator())\n",
    "i = (denom1.polynomial(e)).degree()\n",
    "while i > 2  : \n",
    "    l = (denom1.polynomial(e))[i]\n",
    "    denom1 = denom1-l*e^i\n",
    "    denom1 = denom1+l*e^(i%3)*(  -a*e-b  )^(i//3) \n",
    "    i=(denom1.polynomial(e)).degree()\n",
    "B_2 =  (denom1.polynomial(e))[2]\n",
    "B_1 = (denom1.polynomial(e))[1]\n",
    "B_0 = (denom1.polynomial(e))[0]\n",
    " \n",
    "denom =  b^2*B_2^3 + (-a*b)*B_2^2*B_1 + (-b)*B_1^3 + a^2*B_2^2*B_0 + 3*b*B_2*B_1*B_0 + a*B_1^2*B_0 + (-2*a)*B_2*B_0^2 + B_0^3\n",
    "g = (denom.polynomial(x))[3*k]\n",
    "denom = denom/g\n",
    "   \n",
    "denom1 = (h)^2\n",
    "g = n*x-2*e_1-(3*x^2+a)*(denom1.derivative(x))/denom1-2*(x^3+a*x+b)*(((denom1.derivative(x))/denom1).derivative(x))\n",
    "g = ((g.derivative(x)).numerator()) \n",
    "g = g-denom\n",
    " \n",
    "I = Y.ideal(0)  \n",
    "for i in range(3*k):\n",
    "    I = I + (Y(((g.polynomial(x))[i]).numerator()))*Y\n",
    "         \n",
    "V = I.variety()\n",
    "print V\n"
   ]
  },
  {
   "cell_type": "code",
   "execution_count": 36,
   "metadata": {},
   "outputs": [
    {
     "name": "stdout",
     "output_type": "stream",
     "text": [
      "[{e_3: 0, e_1: 3, e_2: 11}, {e_3: 1, e_1: 6, e_2: 5}, {e_3: 4*i + 3, e_1: 6*i + 10, e_2: i + 9}, {e_3: 10*i + 4, e_1: 12*i + 1, e_2: 9*i}, {e_3: 9*i + 3, e_1: 7*i + 10, e_2: 12*i + 9}, {e_3: 2*i + 12, e_1: 4, e_2: 3*i + 2}, {e_3: 3*i + 4, e_1: i + 1, e_2: 4*i}, {e_3: 11*i + 12, e_1: 4, e_2: 10*i + 2}]\n"
     ]
    }
   ],
   "source": [
    "F.<r> = GF(13)[]\n",
    "K.<i> = GF(13**2, name='i', modulus=r^2+2 )\n",
    "Y.<e_1,e_2,e_3> = K[] \n",
    "V = FractionField(Y) \n",
    "R_1.<x,e>  = V[]\n",
    "a = GF(13)(1)\n",
    "b = GF(13)(4)\n",
    "n=7\n",
    "k =(n-1)/2\n",
    "\n",
    "h = x^3-e_1*x^2+e_2*x-e_3\n",
    "\n",
    "denom1 = h\n",
    "\n",
    "\n",
    "denom1 = R_1(denom1((e*x + 2*e^2 +  a)/(x - e),e).numerator())\n",
    "i = (denom1.polynomial(e)).degree()\n",
    "while i > 2  : \n",
    "    l = (denom1.polynomial(e))[i]\n",
    "    denom1 = denom1-l*e^i\n",
    "    denom1 = denom1+l*e^(i%3)*(  -a*e-b  )^(i//3) \n",
    "    i=(denom1.polynomial(e)).degree()\n",
    "B_2 =  (denom1.polynomial(e))[2]\n",
    "B_1 = (denom1.polynomial(e))[1]\n",
    "B_0 = (denom1.polynomial(e))[0]\n",
    " \n",
    "denom =  b^2*B_2^3 + (-a*b)*B_2^2*B_1 + (-b)*B_1^3 + a^2*B_2^2*B_0 + 3*b*B_2*B_1*B_0 + a*B_1^2*B_0 + (-2*a)*B_2*B_0^2 + B_0^3\n",
    "g = (denom.polynomial(x))[3*k]\n",
    "denom = denom/g\n",
    "   \n",
    "denom1 = (h)^2\n",
    "g = n*x-2*e_1-(3*x^2+a)*(denom1.derivative(x))/denom1-2*(x^3+a*x+b)*(((denom1.derivative(x))/denom1).derivative(x))\n",
    "g = ((g.derivative(x)).numerator()) \n",
    "g = g-denom\n",
    " \n",
    "I = Y.ideal(0)  \n",
    "for i in range(3*k):\n",
    "    I = I + (Y(((g.polynomial(x))[i]).numerator()))*Y\n",
    "         \n",
    "V = I.variety()\n",
    "print V\n"
   ]
  },
  {
   "cell_type": "code",
   "execution_count": 31,
   "metadata": {},
   "outputs": [
    {
     "data": {
      "text/plain": [
       "4"
      ]
     },
     "execution_count": 31,
     "metadata": {},
     "output_type": "execute_result"
    }
   ],
   "source": [
    "13//3"
   ]
  },
  {
   "cell_type": "code",
   "execution_count": null,
   "metadata": {},
   "outputs": [],
   "source": []
  }
 ],
 "metadata": {
  "kernelspec": {
   "display_name": "SageMath 8.7",
   "language": "",
   "name": "sagemath"
  },
  "language_info": {
   "codemirror_mode": {
    "name": "ipython",
    "version": 2
   },
   "file_extension": ".py",
   "mimetype": "text/x-python",
   "name": "python",
   "nbconvert_exporter": "python",
   "pygments_lexer": "ipython2",
   "version": "2.7.15"
  }
 },
 "nbformat": 4,
 "nbformat_minor": 2
}
